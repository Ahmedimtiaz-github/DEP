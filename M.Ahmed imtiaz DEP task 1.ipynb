{
 "cells": [
  {
   "cell_type": "code",
   "execution_count": 2,
   "metadata": {},
   "outputs": [
    {
     "output_type": "stream",
     "name": "stdout",
     "text": [
      "  |   |  \n",
      "-----\n",
      "  |   |  \n",
      "-----\n",
      "  |   |  \n",
      "-----\n"
     ]
    },
    {
     "output_type": "stream",
     "name": "stdin",
     "text": [
      "Enter the row (0, 1, 2):  0\n",
      "Enter the column (0, 1, 2):  0\n"
     ]
    },
    {
     "output_type": "stream",
     "name": "stdout",
     "text": [
      "X |   |  \n",
      "-----\n",
      "  | O |  \n",
      "-----\n",
      "  |   |  \n",
      "-----\n"
     ]
    },
    {
     "output_type": "stream",
     "name": "stdin",
     "text": [
      "Enter the row (0, 1, 2):  0\n",
      "Enter the column (0, 1, 2):  2\n"
     ]
    },
    {
     "output_type": "stream",
     "name": "stdout",
     "text": [
      "X | O | X\n",
      "-----\n",
      "  | O |  \n",
      "-----\n",
      "  |   |  \n",
      "-----\n"
     ]
    },
    {
     "output_type": "stream",
     "name": "stdin",
     "text": [
      "Enter the row (0, 1, 2):  2\n",
      "Enter the column (0, 1, 2):  0\n"
     ]
    },
    {
     "output_type": "stream",
     "name": "stdout",
     "text": [
      "X | O | X\n",
      "-----\n",
      "O | O |  \n",
      "-----\n",
      "X |   |  \n",
      "-----\n"
     ]
    },
    {
     "output_type": "stream",
     "name": "stdin",
     "text": [
      "Enter the row (0, 1, 2):  2\n",
      "Enter the column (0, 1, 2):  2\n"
     ]
    },
    {
     "output_type": "stream",
     "name": "stdout",
     "text": [
      "X | O | X\n",
      "-----\n",
      "O | O | O\n",
      "-----\n",
      "X |   | X\n",
      "-----\n",
      "Computer wins!\n"
     ]
    }
   ],
   "source": [
    "import math\n",
    "\n",
    "def print_board(board):\n",
    "    for row in board:\n",
    "        print(\" | \".join(row))\n",
    "        print(\"-\" * 5)\n",
    "\n",
    "def check_winner(board):\n",
    "    # Check rows\n",
    "    for row in board:\n",
    "        if row[0] == row[1] == row[2] and row[0] != \" \":\n",
    "            return row[0]\n",
    "\n",
    "    # Check columns\n",
    "    for col in range(3):\n",
    "        if board[0][col] == board[1][col] == board[2][col] and board[0][col] != \" \":\n",
    "            return board[0][col]\n",
    "\n",
    "    # Check diagonals\n",
    "    if board[0][0] == board[1][1] == board[2][2] and board[0][0] != \" \":\n",
    "        return board[0][0]\n",
    "    if board[0][2] == board[1][1] == board[2][0] and board[0][2] != \" \":\n",
    "        return board[0][2]\n",
    "\n",
    "    # Check for a tie\n",
    "    for row in board:\n",
    "        if \" \" in row:\n",
    "            return None\n",
    "\n",
    "    return \"Tie\"\n",
    "\n",
    "def minimax(board, depth, is_maximizing):\n",
    "    winner = check_winner(board)\n",
    "    if winner == \"X\":\n",
    "        return -1\n",
    "    elif winner == \"O\":\n",
    "        return 1\n",
    "    elif winner == \"Tie\":\n",
    "        return 0\n",
    "\n",
    "    if is_maximizing:\n",
    "        best_score = -math.inf\n",
    "        for i in range(3):\n",
    "            for j in range(3):\n",
    "                if board[i][j] == \" \":\n",
    "                    board[i][j] = \"O\"\n",
    "                    score = minimax(board, depth + 1, False)\n",
    "                    board[i][j] = \" \"\n",
    "                    best_score = max(score, best_score)\n",
    "        return best_score\n",
    "    else:\n",
    "        best_score = math.inf\n",
    "        for i in range(3):\n",
    "            for j in range(3):\n",
    "                if board[i][j] == \" \":\n",
    "                    board[i][j] = \"X\"\n",
    "                    score = minimax(board, depth + 1, True)\n",
    "                    board[i][j] = \" \"\n",
    "                    best_score = min(score, best_score)\n",
    "        return best_score\n",
    "\n",
    "def best_move(board):\n",
    "    best_score = -math.inf\n",
    "    move = None\n",
    "    for i in range(3):\n",
    "        for j in range(3):\n",
    "            if board[i][j] == \" \":\n",
    "                board[i][j] = \"O\"\n",
    "                score = minimax(board, 0, False)\n",
    "                board[i][j] = \" \"\n",
    "                if score > best_score:\n",
    "                    best_score = score\n",
    "                    move = (i, j)\n",
    "    return move\n",
    "\n",
    "def play_game():\n",
    "    board = [[\" \" for _ in range(3)] for _ in range(3)]\n",
    "    while True:\n",
    "        print_board(board)\n",
    "        user_row = int(input(\"Enter the row (0, 1, 2): \"))\n",
    "        user_col = int(input(\"Enter the column (0, 1, 2): \"))\n",
    "        if board[user_row][user_col] == \" \":\n",
    "            board[user_row][user_col] = \"X\"\n",
    "        else:\n",
    "            print(\"Invalid move. Try again.\")\n",
    "            continue\n",
    "\n",
    "        if check_winner(board):\n",
    "            print_board(board)\n",
    "            print(\"You win!\")\n",
    "            break\n",
    "\n",
    "        if all(all(cell != \" \" for cell in row) for row in board):\n",
    "            print_board(board)\n",
    "            print(\"It's a tie!\")\n",
    "            break\n",
    "\n",
    "        computer_move = best_move(board)\n",
    "        if computer_move:\n",
    "            board[computer_move[0]][computer_move[1]] = \"O\"\n",
    "\n",
    "        if check_winner(board):\n",
    "            print_board(board)\n",
    "            print(\"Computer wins!\")\n",
    "            break\n",
    "\n",
    "        if all(all(cell != \" \" for cell in row) for row in board):\n",
    "            print_board(board)\n",
    "            print(\"It's a tie!\")\n",
    "            break\n",
    "\n",
    "play_game()\n"
   ],
   "id": "6a3a641f-2854-42f7-ad7a-36cf7ea350a2"
  },
  {
   "cell_type": "code",
   "execution_count": null,
   "metadata": {},
   "outputs": [],
   "source": [],
   "id": "0f58738f-c104-471c-ae31-d206ff62fb3d"
  }
 ],
 "nbformat": 4,
 "nbformat_minor": 5,
 "metadata": {
  "kernelspec": {
   "name": "python3",
   "display_name": "Python 3 (ipykernel)",
   "language": "python"
  },
  "language_info": {
   "name": "python",
   "codemirror_mode": {
    "name": "ipython",
    "version": "3"
   },
   "file_extension": ".py",
   "mimetype": "text/x-python",
   "nbconvert_exporter": "python",
   "pygments_lexer": "ipython3",
   "version": "3.12.4"
  }
 }
}
